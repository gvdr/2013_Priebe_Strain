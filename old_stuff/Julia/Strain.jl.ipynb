{
 "cells": [
  {
   "cell_type": "code",
   "execution_count": null,
   "metadata": {
    "collapsed": true
   },
   "outputs": [],
   "source": [
    "#using Gadfly\n",
    "using Graphs\n",
    "@everywhere using DataFrames\n",
    "@everywhere using DistributedArrays\n",
    "@everywhere using PTools"
   ]
  },
  {
   "cell_type": "code",
   "execution_count": 1,
   "metadata": {
    "collapsed": false
   },
   "outputs": [],
   "source": [
    "@everywhere function scaled_ones(n)\n",
    "    eye(n) - (1/n) * ones(n,n)\n",
    "end\n",
    "\n",
    "@everywhere function scale_matrix(A)\n",
    "    return scaled_ones(size(A,1)) * A\n",
    "end\n",
    "\n",
    "@everywhere function rsq(A,B)\n",
    "    tbatab = transpose(B) * A * transpose(A) * B\n",
    "    return sum(sqrt(abs(eigvals(tbatab))))\n",
    "end\n",
    "\n",
    "@everywhere function proc_reflect(A,B)\n",
    "    Abar = scale_matrix(A)\n",
    "    Bbar = scale_matrix(B)\n",
    "    return rsq(Abar,Bbar) / sum(diag(transpose(Bbar) * Bbar))\n",
    "end\n",
    "\n",
    "@everywhere function proc_rotate_reflect(A,B)\n",
    "    X = transpose(scale_matrix(A)) * scale_matrix(B)\n",
    "    Xsvd = svdfact!(X)\n",
    "    return transpose(Xsvd.Vt) * transpose(Xsvd.U)\n",
    "end\n",
    "\n",
    "@everywhere function proc_OSS(A,B)\n",
    "    R = proc_rotate_reflect(A,B)\n",
    "    s = proc_reflect(A,B)\n",
    "    Ahat = scale_matrix(A)\n",
    "    Bhat = scale_matrix(B) * R * s\n",
    "    resids = Ahat - Bhat\n",
    "    return sum(diag(transpose(resids) * resids))\n",
    "end"
   ]
  },
  {
   "cell_type": "code",
   "execution_count": 4,
   "metadata": {
    "collapsed": false
   },
   "outputs": [
    {
     "data": {
      "text/plain": [
       "strain_ranks (generic function with 1 method)"
      ]
     },
     "execution_count": 4,
     "metadata": {},
     "output_type": "execute_result"
    }
   ],
   "source": [
    "@everywhere function get_M_matrix(X)\n",
    "    size_M = size(X,1)\n",
    "    Xsvd = svdfact(X)\n",
    "    Xhat1 = Xsvd.U[:,1:size_M] * diagm(sqrt(Xsvd.S[1:size_M]))\n",
    "    Xhat2 = transpose(Xsvd.Vt[:,1:size_M]) * diagm(sqrt(Xsvd.S[1:size_M]))\n",
    "    return hcat(Xhat1,Xhat2)\n",
    "end\n",
    "\n",
    "function strain(X,ind,max_rank)\n",
    "    size_M = size(X,1)\n",
    "    arr = deleteat!([1:size_M],ind)\n",
    "    M_obs = get_M_matrix(X)\n",
    "    M_ind = get_M_matrix(X[arr,arr])\n",
    "    strain_ind = dzeros(max_rank)\n",
    "    for rank in 1:1:max_rank\n",
    "        strain_ind[rank] = @spawn proc_OSS(M_ind[:,1:rank], M_obs[arr,1:rank])\n",
    "    end\n",
    "    fetch(strain_ind)\n",
    "    return strain_ind\n",
    "end\n",
    "\n",
    "function strain_ranks_p(X,max_rank)\n",
    "    size_M = size(X,1)\n",
    "    strains = SharedArray(Float64, (max_rank, size_M))\n",
    "    @parallel for species in 1:size_M\n",
    "        strains[:,species] = strain(X,species,max_rank)\n",
    "    end\n",
    "    return convert(DataFrame,strains)\n",
    "end\n",
    "\n",
    "function strain_ranks(X,max_rank)\n",
    "    size_M = size(X,1)\n",
    "    strains = fill(0.0,max_rank,size_M)\n",
    "    for species in 1:size_M\n",
    "        strains[:,species] = strain(X,species,max_rank)\n",
    "    end\n",
    "    return convert(DataFrame,strains)\n",
    "end"
   ]
  },
  {
   "cell_type": "code",
   "execution_count": 5,
   "metadata": {
    "collapsed": false
   },
   "outputs": [
    {
     "ename": "LoadError",
     "evalue": "`convert` has no method matching convert(::Type{Float64}, ::RemoteRef)\nwhile loading In[5], in expression starting on line 56",
     "output_type": "error",
     "traceback": [
      "`convert` has no method matching convert(::Type{Float64}, ::RemoteRef)\nwhile loading In[5], in expression starting on line 56",
      "",
      " in setindex! at array.jl:307",
      " in strain at In[4]:16",
      " in strain_ranks at In[4]:35"
     ]
    }
   ],
   "source": [
    "M = rand(0:1,100,100);\n",
    "@time strains = strain_ranks(M,10);\n",
    "#plot(melt(strains),x=\"variable\",y=\"value\",Geom.boxplot)"
   ]
  },
  {
   "cell_type": "code",
   "execution_count": 150,
   "metadata": {
    "collapsed": false
   },
   "outputs": [
    {
     "ename": "LoadError",
     "evalue": "`convert` has no method matching convert(::Type{Float64}, ::RemoteRef)\nwhile loading In[150], in expression starting on line 2",
     "output_type": "error",
     "traceback": [
      "`convert` has no method matching convert(::Type{Float64}, ::RemoteRef)\nwhile loading In[150], in expression starting on line 2",
      "",
      " in setindex! at multidimensional.jl:68",
      " in strain_ranks at In[149]:25"
     ]
    }
   ],
   "source": [
    "M = rand(0:1,500,500);\n",
    "strains = strain_ranks(M,10);\n",
    "plot(melt(strains),x=\"variable\",y=\"value\",Geom.boxplot)"
   ]
  },
  {
   "cell_type": "code",
   "execution_count": 174,
   "metadata": {
    "collapsed": false
   },
   "outputs": [
    {
     "data": {
      "text/plain": [
       "5x8 SharedArray{Int64,2}:\n",
       " 0  0  0  0  0  0  0  0\n",
       " 0  0  0  0  0  0  0  0\n",
       " 0  0  0  0  0  0  0  0\n",
       " 0  0  0  0  0  0  0  0\n",
       " 0  0  0  0  0  0  0  0"
      ]
     },
     "execution_count": 174,
     "metadata": {},
     "output_type": "execute_result"
    }
   ],
   "source": [
    "S = SharedArray(Int, (5, 8))"
   ]
  },
  {
   "cell_type": "code",
   "execution_count": 140,
   "metadata": {
    "collapsed": false
   },
   "outputs": [
    {
     "ename": "LoadError",
     "evalue": "`start` has no method matching start(::DataFrame)\nwhile loading In[140], in expression starting on line 1",
     "output_type": "error",
     "traceback": [
      "`start` has no method matching start(::DataFrame)\nwhile loading In[140], in expression starting on line 1",
      "",
      " in mean at statistics.jl:4"
     ]
    }
   ],
   "source": [
    "DataFrames.mean(strains)"
   ]
  },
  {
   "cell_type": "code",
   "execution_count": 156,
   "metadata": {
    "collapsed": false
   },
   "outputs": [
    {
     "ename": "LoadError",
     "evalue": "m not defined\nwhile loading In[156], in expression starting on line 2",
     "output_type": "error",
     "traceback": [
      "m not defined\nwhile loading In[156], in expression starting on line 2",
      ""
     ]
    }
   ],
   "source": [
    "test_graph = erdos_renyi_graph(10,0.4,is_directed=false)\n",
    " u_er = erdos_renyi_graph(n, m, is_directed=false)\n"
   ]
  },
  {
   "cell_type": "code",
   "execution_count": 164,
   "metadata": {
    "collapsed": false
   },
   "outputs": [
    {
     "ename": "LoadError",
     "evalue": "T not defined\nwhile loading In[164], in expression starting on line 1",
     "output_type": "error",
     "traceback": [
      "T not defined\nwhile loading In[164], in expression starting on line 1",
      "",
      " in niche_model_graph at /users/math/gvd16/.julia/v0.3/RandomGraphs/src/niche.jl:15",
      " in niche_model_graph at /users/math/gvd16/.julia/v0.3/RandomGraphs/src/niche.jl:43"
     ]
    }
   ],
   "source": [
    "test_niche = niche_model_graph(100,0.5)"
   ]
  },
  {
   "cell_type": "code",
   "execution_count": 125,
   "metadata": {
    "collapsed": false
   },
   "outputs": [
    {
     "ename": "LoadError",
     "evalue": "`convert` has no method matching convert(::Type{Array{Float64,10}}, ::Float64)\nwhile loading In[125], in expression starting on line 1",
     "output_type": "error",
     "traceback": [
      "`convert` has no method matching convert(::Type{Array{Float64,10}}, ::Float64)\nwhile loading In[125], in expression starting on line 1",
      "",
      " in getindex at array.jl:121"
     ]
    }
   ],
   "source": [
    "ar[1.0]"
   ]
  },
  {
   "cell_type": "code",
   "execution_count": null,
   "metadata": {
    "collapsed": true
   },
   "outputs": [],
   "source": []
  }
 ],
 "metadata": {
  "kernelspec": {
   "display_name": "Julia 0.4.0-dev",
   "language": "julia",
   "name": "julia 0.4"
  },
  "language_info": {
   "name": "julia",
   "version": "0.3.0"
  }
 },
 "nbformat": 4,
 "nbformat_minor": 0
}
